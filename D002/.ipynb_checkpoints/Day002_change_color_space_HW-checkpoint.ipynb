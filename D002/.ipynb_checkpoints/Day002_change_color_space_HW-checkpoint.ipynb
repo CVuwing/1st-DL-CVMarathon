{
 "cells": [
  {
   "cell_type": "code",
   "execution_count": 1,
   "metadata": {},
   "outputs": [
    {
     "ename": "SyntaxError",
     "evalue": "invalid syntax (<ipython-input-1-8cc883c8b91e>, line 3)",
     "output_type": "error",
     "traceback": [
      "\u001b[1;36m  File \u001b[1;32m\"<ipython-input-1-8cc883c8b91e>\"\u001b[1;36m, line \u001b[1;32m3\u001b[0m\n\u001b[1;33m    使用 [Lena](http://optipng.sourceforge.net/pngtech/img/lena.png)\u001b[0m\n\u001b[1;37m                  ^\u001b[0m\n\u001b[1;31mSyntaxError\u001b[0m\u001b[1;31m:\u001b[0m invalid syntax\n"
     ]
    }
   ],
   "source": [
    "# 作業\n",
    "\n",
    "使用 [Lena](http://optipng.sourceforge.net/pngtech/img/lena.png)\n",
    "\n",
    "- 改變圖片的 color space (`HLS`, `LAB`) 並呈現"
   ]
  },
  {
   "cell_type": "code",
   "execution_count": 7,
   "metadata": {},
   "outputs": [],
   "source": [
    "import cv2\n",
    "import numpy as np\n",
    "img_path = 'data/lena.png'\n",
    "\n",
    "# 以彩色圖片的方式載入\n",
    "img_bgr = cv2.imread(img_path, cv2.IMREAD_COLOR)\n",
    "img_hsv = cv2.cvtColor(img_bgr, cv2.COLOR_BGR2HSV)\n",
    "img_hsl = cv2.cvtColor(img_bgr, cv2.COLOR_BGR2HLS)\n",
    "img_lab = cv2.cvtColor(img_bgr, cv2.COLOR_BGR2LAB)\n",
    "# 把圖片合併起來方便一起看\n",
    "img_concat = np.hstack((img_bgr, img_hsv, img_hsl,img_lab))\n",
    "\n",
    "# 為了要不斷顯示圖片，所以使用一個迴圈\n",
    "# while True:\n",
    "    # 顯示圖\n",
    "cv2.imshow('bgr_hsv_hsl_lab', img_concat)\n",
    "\n",
    "# 直到按鍵才會自動關閉視窗結束程式\n",
    "cv2.waitKey(0)\n",
    "cv2.destroyAllWindows()"
   ]
  },
  {
   "cell_type": "code",
   "execution_count": null,
   "metadata": {},
   "outputs": [],
   "source": []
  },
  {
   "cell_type": "code",
   "execution_count": null,
   "metadata": {},
   "outputs": [],
   "source": []
  },
  {
   "cell_type": "code",
   "execution_count": null,
   "metadata": {},
   "outputs": [],
   "source": []
  }
 ],
 "metadata": {
  "kernelspec": {
   "display_name": "Python 3",
   "language": "python",
   "name": "python3"
  },
  "language_info": {
   "codemirror_mode": {
    "name": "ipython",
    "version": 3
   },
   "file_extension": ".py",
   "mimetype": "text/x-python",
   "name": "python",
   "nbconvert_exporter": "python",
   "pygments_lexer": "ipython3",
   "version": "3.7.5"
  }
 },
 "nbformat": 4,
 "nbformat_minor": 2
}
