{
 "cells": [
  {
   "cell_type": "code",
   "execution_count": null,
   "metadata": {},
   "outputs": [],
   "source": [
    "# 作業\n",
    "\n",
    "思考一下我們前面有提到圖片是矩陣，但維度可能會不一樣\n",
    "例如灰階圖只有兩個維度，RGB 彩圖則有 3 個維度\n",
    "\n",
    "假如今天我們把 RGB 3 個維度拆開來看會有甚麼不同的效果呢？"
   ]
  },
  {
   "cell_type": "code",
   "execution_count": 22,
   "metadata": {},
   "outputs": [],
   "source": [
    "import cv2\n",
    "\n",
    "img_path = 'data/lena.png'\n",
    "\n",
    "# 以彩色圖片的方式載入\n",
    "img_tmp = cv2.imread(img_path, cv2.IMREAD_COLOR)\n",
    "# 只保留B\n",
    "img = img_tmp.copy();\n",
    "img[:,:,1] = 0;\n",
    "img[:,:,2] = 0;\n",
    "cv2.imshow('B', img)\n",
    "img = img_tmp.copy();\n",
    "img[:,:,0] = 0;\n",
    "img[:,:,2] = 0;\n",
    "# 只保留G\n",
    "cv2.imshow('G', img)\n",
    "img = img_tmp.copy();\n",
    "img[:,:,0] = 0;\n",
    "img[:,:,1] = 0;\n",
    "# 只保留R\n",
    "cv2.imshow('R', img)\n",
    "cv2.waitKey(0)\n",
    "cv2.destroyAllWindows()"
   ]
  },
  {
   "cell_type": "code",
   "execution_count": null,
   "metadata": {},
   "outputs": [],
   "source": []
  }
 ],
 "metadata": {
  "kernelspec": {
   "display_name": "Python 3",
   "language": "python",
   "name": "python3"
  },
  "language_info": {
   "codemirror_mode": {
    "name": "ipython",
    "version": 3
   },
   "file_extension": ".py",
   "mimetype": "text/x-python",
   "name": "python",
   "nbconvert_exporter": "python",
   "pygments_lexer": "ipython3",
   "version": "3.7.5"
  }
 },
 "nbformat": 4,
 "nbformat_minor": 2
}
